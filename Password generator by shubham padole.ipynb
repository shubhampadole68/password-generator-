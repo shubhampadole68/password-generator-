{
 "cells": [
  {
   "cell_type": "code",
   "execution_count": 1,
   "metadata": {},
   "outputs": [],
   "source": [
    "import random"
   ]
  },
  {
   "cell_type": "code",
   "execution_count": 2,
   "metadata": {},
   "outputs": [
    {
     "name": "stdout",
     "output_type": "stream",
     "text": [
      "Welcome To Password Generator\n"
     ]
    }
   ],
   "source": [
    "print ('Welcome To Password Generator')"
   ]
  },
  {
   "cell_type": "code",
   "execution_count": 12,
   "metadata": {},
   "outputs": [
    {
     "name": "stdout",
     "output_type": "stream",
     "text": [
      "Welcome To Password Generator\n",
      "Amount Of  Password to generate:7\n",
      "Your password length:7\n",
      "\n",
      "here are your password:\n",
      "e\n",
      "e$\n",
      "e$G\n",
      "e$Gl\n",
      "e$GlC\n",
      "e$GlCX\n",
      "e$GlCXb\n",
      "A\n",
      "A1\n",
      "A1P\n",
      "A1P^\n",
      "A1P^d\n",
      "A1P^d9\n",
      "A1P^d96\n",
      "P\n",
      "PE\n",
      "PE9\n",
      "PE9.\n",
      "PE9.!\n",
      "PE9.!r\n",
      "PE9.!r1\n",
      "C\n",
      "Cn\n",
      "Cno\n",
      "CnoQ\n",
      "CnoQo\n",
      "CnoQo6\n",
      "CnoQo6N\n",
      "U\n",
      "Ul\n",
      "Ule\n",
      "Ulel\n",
      "Ulel^\n",
      "Ulel^8\n",
      "Ulel^8y\n",
      "a\n",
      "ag\n",
      "aga\n",
      "aga9\n",
      "aga9f\n",
      "aga9fU\n",
      "aga9fU6\n",
      "f\n",
      "fi\n",
      "fi7\n",
      "fi7e\n",
      "fi7eQ\n",
      "fi7eQ1\n",
      "fi7eQ1L\n"
     ]
    }
   ],
   "source": [
    "print ('Welcome To Password Generator')\n",
    "chars ='qwertyuiopasdfghjklzxcvbnmQWERTYUIOPASDFGHJKLXCVBNM1234567890!@#$%^&*,./'\n",
    "number = input('Amount Of  Password to generate:')\n",
    "number = int(number)\n",
    "length = input('Your password length:')\n",
    "length = int(length)\n",
    "\n",
    "print('\\nhere are your password:')\n",
    "\n",
    "for pwd in range (number):\n",
    "    passwords =''\n",
    "    for c in range (length):\n",
    "        passwords += random.choice(chars)\n",
    "        print (passwords)"
   ]
  },
  {
   "cell_type": "code",
   "execution_count": null,
   "metadata": {},
   "outputs": [],
   "source": []
  }
 ],
 "metadata": {
  "kernelspec": {
   "display_name": "Python 3",
   "language": "python",
   "name": "python3"
  },
  "language_info": {
   "codemirror_mode": {
    "name": "ipython",
    "version": 3
   },
   "file_extension": ".py",
   "mimetype": "text/x-python",
   "name": "python",
   "nbconvert_exporter": "python",
   "pygments_lexer": "ipython3",
   "version": "3.8.5"
  }
 },
 "nbformat": 4,
 "nbformat_minor": 4
}
